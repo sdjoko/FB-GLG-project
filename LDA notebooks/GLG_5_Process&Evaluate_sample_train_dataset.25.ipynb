{
 "cells": [
  {
   "cell_type": "markdown",
   "id": "c09426c8",
   "metadata": {},
   "source": [
    "# Surnjani Djoko May 12th 2022\n",
    "## Process the train dataset and perform evaluation based on local model"
   ]
  },
  {
   "cell_type": "code",
   "execution_count": 1,
   "id": "7615f238",
   "metadata": {},
   "outputs": [],
   "source": [
    "import pandas as pd\n",
    "import numpy as np\n",
    "import seaborn as sns\n",
    "import matplotlib.pyplot as plt\n",
    "%matplotlib inline\n",
    "\n",
    "import pickle\n",
    "\n",
    "pd.set_option('display.max_columns', None)\n",
    "pd.set_option('display.max_rows', None)\n",
    "\n",
    "pd.set_option('display.float_format', lambda x: '%.3f' % x)"
   ]
  },
  {
   "cell_type": "code",
   "execution_count": 2,
   "id": "3ce3c919",
   "metadata": {},
   "outputs": [
    {
     "data": {
      "text/html": [
       "<div>\n",
       "<style scoped>\n",
       "    .dataframe tbody tr th:only-of-type {\n",
       "        vertical-align: middle;\n",
       "    }\n",
       "\n",
       "    .dataframe tbody tr th {\n",
       "        vertical-align: top;\n",
       "    }\n",
       "\n",
       "    .dataframe thead th {\n",
       "        text-align: right;\n",
       "    }\n",
       "</style>\n",
       "<table border=\"1\" class=\"dataframe\">\n",
       "  <thead>\n",
       "    <tr style=\"text-align: right;\">\n",
       "      <th></th>\n",
       "      <th>date</th>\n",
       "      <th>year</th>\n",
       "      <th>month</th>\n",
       "      <th>day</th>\n",
       "      <th>publication</th>\n",
       "      <th>title_article_cleaned</th>\n",
       "    </tr>\n",
       "  </thead>\n",
       "  <tbody>\n",
       "    <tr>\n",
       "      <th>0</th>\n",
       "      <td>2016-10-07 21:26:46</td>\n",
       "      <td>2016</td>\n",
       "      <td>10.000</td>\n",
       "      <td>7</td>\n",
       "      <td>Business Insider</td>\n",
       "      <td>colt gm ryan grigson andrew luck contract diff...</td>\n",
       "    </tr>\n",
       "    <tr>\n",
       "      <th>1</th>\n",
       "      <td>2016-01-27 00:00:00</td>\n",
       "      <td>2016</td>\n",
       "      <td>1.000</td>\n",
       "      <td>27</td>\n",
       "      <td>TMZ</td>\n",
       "      <td>pari hilton woman black uncl monti funer pari ...</td>\n",
       "    </tr>\n",
       "    <tr>\n",
       "      <th>2</th>\n",
       "      <td>2016-05-18 13:00:06</td>\n",
       "      <td>2016</td>\n",
       "      <td>5.000</td>\n",
       "      <td>18</td>\n",
       "      <td>Vox</td>\n",
       "      <td>watch googl io keynot live googl io compani bi...</td>\n",
       "    </tr>\n",
       "  </tbody>\n",
       "</table>\n",
       "</div>"
      ],
      "text/plain": [
       "                  date  year  month  day       publication  \\\n",
       "0  2016-10-07 21:26:46  2016 10.000    7  Business Insider   \n",
       "1  2016-01-27 00:00:00  2016  1.000   27               TMZ   \n",
       "2  2016-05-18 13:00:06  2016  5.000   18               Vox   \n",
       "\n",
       "                               title_article_cleaned  \n",
       "0  colt gm ryan grigson andrew luck contract diff...  \n",
       "1  pari hilton woman black uncl monti funer pari ...  \n",
       "2  watch googl io keynot live googl io compani bi...  "
      ]
     },
     "metadata": {},
     "output_type": "display_data"
    },
    {
     "data": {
      "text/plain": [
       "((2067317, 6), None)"
      ]
     },
     "execution_count": 2,
     "metadata": {},
     "output_type": "execute_result"
    }
   ],
   "source": [
    "df_train = pd.read_csv('full_sample/data_set1_train.clean_1.csv')\n",
    "df_train.shape, display(df_train.head(3))"
   ]
  },
  {
   "cell_type": "code",
   "execution_count": 3,
   "id": "4cb7a895",
   "metadata": {},
   "outputs": [],
   "source": [
    "# Gensim\n",
    "import gensim, spacy, logging, warnings\n",
    "import gensim.corpora as corpora\n",
    "#from gensim.utils import lemmatize, simple_preprocess\n",
    "import matplotlib.pyplot as plt\n",
    "%matplotlib inline\n",
    "import warnings\n",
    "warnings.filterwarnings(\"ignore\",category=DeprecationWarning)  "
   ]
  },
  {
   "cell_type": "code",
   "execution_count": 4,
   "id": "4f3d4eb1",
   "metadata": {},
   "outputs": [],
   "source": [
    "# load back the entire training corpus and dictionary\n",
    "DICT_PATH=\"full_sample/id2word_50k_filtered_full\"\n",
    "CORPUS_PATH=\"full_sample/corpus_50k_filtered_full\"\n",
    "    \n",
    "id2word = corpora.Dictionary.load(DICT_PATH)\n",
    "corpus = corpora.MmCorpus(CORPUS_PATH)"
   ]
  },
  {
   "cell_type": "code",
   "execution_count": 5,
   "id": "aeeea682",
   "metadata": {},
   "outputs": [],
   "source": [
    "with open(\"full_sample/trigram_tokens_data_full\", \"rb\") as fp:   # Unpickling\n",
    "    token_words_trigrams_lemm = pickle.load(fp)"
   ]
  },
  {
   "cell_type": "code",
   "execution_count": 6,
   "id": "18070d41",
   "metadata": {},
   "outputs": [],
   "source": [
    "with open('full_sample/lda_model_25.pk', 'rb') as pickle_file:\n",
    "    bestModel_25 = pickle.load(pickle_file)"
   ]
  },
  {
   "cell_type": "code",
   "execution_count": 7,
   "id": "e87650b0",
   "metadata": {},
   "outputs": [],
   "source": [
    "train_corpus_lemm = [id2word.doc2bow(text) for text in token_words_trigrams_lemm]"
   ]
  },
  {
   "cell_type": "code",
   "execution_count": null,
   "id": "776a5b05",
   "metadata": {},
   "outputs": [],
   "source": [
    "# get the topic probability for each document\n",
    "num_topics = 25\n",
    "train_vecs = []\n",
    "for i in range(len(train_corpus_lemm)):\n",
    "    top_topics = bestModel_25.get_document_topics(train_corpus_lemm[i], minimum_probability=0.0)\n",
    "    topic_vec = [top_topics[i][1] for i in range(num_topics)]\n",
    "    train_vecs.append(topic_vec)"
   ]
  },
  {
   "cell_type": "code",
   "execution_count": null,
   "id": "fb49364d",
   "metadata": {},
   "outputs": [],
   "source": [
    "prob_cols = ['t0', 't1', 't2', 't3', 't4','t5','t6', 't7', 't8', 't9', 't10',\n",
    "            't11', 't12', 't13', 't14', 't15','t16', 't17', 't18', 't19', 't20',\n",
    "            't21', 't22', 't23', 't24']\n",
    "df_topic_prob = pd.DataFrame(train_vecs, columns=prob_cols)"
   ]
  },
  {
   "cell_type": "code",
   "execution_count": null,
   "id": "4137d5be",
   "metadata": {},
   "outputs": [],
   "source": [
    "df_topic_prob.head(3)"
   ]
  },
  {
   "cell_type": "code",
   "execution_count": null,
   "id": "2ed0cff2",
   "metadata": {},
   "outputs": [],
   "source": [
    "# added back the test dataset\n",
    "df_final_train = df_train.join(df_topic_prob)\n",
    "df_final_train.head(3)"
   ]
  },
  {
   "cell_type": "code",
   "execution_count": null,
   "id": "db5d697f",
   "metadata": {},
   "outputs": [],
   "source": [
    "df_final_train['highest_prob']=df_final_train[prob_cols].max(axis=1)\n",
    "df_final_train['highest_topic']=df_final_train[prob_cols].idxmax(axis=1)"
   ]
  },
  {
   "cell_type": "code",
   "execution_count": null,
   "id": "aa4a58ed",
   "metadata": {},
   "outputs": [],
   "source": [
    "df_final_train.to_csv('full_sample/train_result_prob.csv', index=False)"
   ]
  },
  {
   "cell_type": "code",
   "execution_count": 9,
   "id": "91a2b201",
   "metadata": {},
   "outputs": [],
   "source": [
    "df_final_train=pd.read_csv('full_sample/train_result_prob.csv')"
   ]
  },
  {
   "cell_type": "code",
   "execution_count": 10,
   "id": "6db5025a",
   "metadata": {},
   "outputs": [
    {
     "data": {
      "text/plain": [
       "(2067317, 33)"
      ]
     },
     "execution_count": 10,
     "metadata": {},
     "output_type": "execute_result"
    }
   ],
   "source": [
    "df_final_train.shape"
   ]
  },
  {
   "cell_type": "code",
   "execution_count": 11,
   "id": "8758feb4",
   "metadata": {},
   "outputs": [
    {
     "data": {
      "text/html": [
       "<div>\n",
       "<style scoped>\n",
       "    .dataframe tbody tr th:only-of-type {\n",
       "        vertical-align: middle;\n",
       "    }\n",
       "\n",
       "    .dataframe tbody tr th {\n",
       "        vertical-align: top;\n",
       "    }\n",
       "\n",
       "    .dataframe thead th {\n",
       "        text-align: right;\n",
       "    }\n",
       "</style>\n",
       "<table border=\"1\" class=\"dataframe\">\n",
       "  <thead>\n",
       "    <tr style=\"text-align: right;\">\n",
       "      <th></th>\n",
       "      <th>date</th>\n",
       "      <th>year</th>\n",
       "      <th>month</th>\n",
       "      <th>day</th>\n",
       "      <th>publication</th>\n",
       "      <th>title_article_cleaned</th>\n",
       "      <th>t0</th>\n",
       "      <th>t1</th>\n",
       "      <th>t2</th>\n",
       "      <th>t3</th>\n",
       "      <th>t4</th>\n",
       "      <th>t5</th>\n",
       "      <th>t6</th>\n",
       "      <th>t7</th>\n",
       "      <th>t8</th>\n",
       "      <th>t9</th>\n",
       "      <th>t10</th>\n",
       "      <th>t11</th>\n",
       "      <th>t12</th>\n",
       "      <th>t13</th>\n",
       "      <th>t14</th>\n",
       "      <th>t15</th>\n",
       "      <th>t16</th>\n",
       "      <th>t17</th>\n",
       "      <th>t18</th>\n",
       "      <th>t19</th>\n",
       "      <th>t20</th>\n",
       "      <th>t21</th>\n",
       "      <th>t22</th>\n",
       "      <th>t23</th>\n",
       "      <th>t24</th>\n",
       "      <th>highest_prob</th>\n",
       "      <th>highest_topic</th>\n",
       "    </tr>\n",
       "  </thead>\n",
       "  <tbody>\n",
       "    <tr>\n",
       "      <th>0</th>\n",
       "      <td>2016-10-07 21:26:46</td>\n",
       "      <td>2016</td>\n",
       "      <td>10.000</td>\n",
       "      <td>7</td>\n",
       "      <td>Business Insider</td>\n",
       "      <td>colt gm ryan grigson andrew luck contract diff...</td>\n",
       "      <td>0.001</td>\n",
       "      <td>0.047</td>\n",
       "      <td>0.001</td>\n",
       "      <td>0.001</td>\n",
       "      <td>0.001</td>\n",
       "      <td>0.001</td>\n",
       "      <td>0.001</td>\n",
       "      <td>0.000</td>\n",
       "      <td>0.000</td>\n",
       "      <td>0.000</td>\n",
       "      <td>0.525</td>\n",
       "      <td>0.000</td>\n",
       "      <td>0.000</td>\n",
       "      <td>0.000</td>\n",
       "      <td>0.195</td>\n",
       "      <td>0.000</td>\n",
       "      <td>0.000</td>\n",
       "      <td>0.000</td>\n",
       "      <td>0.000</td>\n",
       "      <td>0.000</td>\n",
       "      <td>0.000</td>\n",
       "      <td>0.000</td>\n",
       "      <td>0.000</td>\n",
       "      <td>0.124</td>\n",
       "      <td>0.100</td>\n",
       "      <td>0.525</td>\n",
       "      <td>t10</td>\n",
       "    </tr>\n",
       "    <tr>\n",
       "      <th>1</th>\n",
       "      <td>2016-01-27 00:00:00</td>\n",
       "      <td>2016</td>\n",
       "      <td>1.000</td>\n",
       "      <td>27</td>\n",
       "      <td>TMZ</td>\n",
       "      <td>pari hilton woman black uncl monti funer pari ...</td>\n",
       "      <td>0.004</td>\n",
       "      <td>0.004</td>\n",
       "      <td>0.003</td>\n",
       "      <td>0.003</td>\n",
       "      <td>0.002</td>\n",
       "      <td>0.080</td>\n",
       "      <td>0.002</td>\n",
       "      <td>0.002</td>\n",
       "      <td>0.169</td>\n",
       "      <td>0.057</td>\n",
       "      <td>0.001</td>\n",
       "      <td>0.001</td>\n",
       "      <td>0.001</td>\n",
       "      <td>0.001</td>\n",
       "      <td>0.106</td>\n",
       "      <td>0.112</td>\n",
       "      <td>0.001</td>\n",
       "      <td>0.443</td>\n",
       "      <td>0.001</td>\n",
       "      <td>0.001</td>\n",
       "      <td>0.001</td>\n",
       "      <td>0.001</td>\n",
       "      <td>0.001</td>\n",
       "      <td>0.001</td>\n",
       "      <td>0.001</td>\n",
       "      <td>0.443</td>\n",
       "      <td>t17</td>\n",
       "    </tr>\n",
       "    <tr>\n",
       "      <th>2</th>\n",
       "      <td>2016-05-18 13:00:06</td>\n",
       "      <td>2016</td>\n",
       "      <td>5.000</td>\n",
       "      <td>18</td>\n",
       "      <td>Vox</td>\n",
       "      <td>watch googl io keynot live googl io compani bi...</td>\n",
       "      <td>0.002</td>\n",
       "      <td>0.257</td>\n",
       "      <td>0.001</td>\n",
       "      <td>0.519</td>\n",
       "      <td>0.180</td>\n",
       "      <td>0.001</td>\n",
       "      <td>0.001</td>\n",
       "      <td>0.001</td>\n",
       "      <td>0.001</td>\n",
       "      <td>0.001</td>\n",
       "      <td>0.001</td>\n",
       "      <td>0.001</td>\n",
       "      <td>0.001</td>\n",
       "      <td>0.000</td>\n",
       "      <td>0.000</td>\n",
       "      <td>0.000</td>\n",
       "      <td>0.000</td>\n",
       "      <td>0.000</td>\n",
       "      <td>0.000</td>\n",
       "      <td>0.000</td>\n",
       "      <td>0.000</td>\n",
       "      <td>0.000</td>\n",
       "      <td>0.000</td>\n",
       "      <td>0.032</td>\n",
       "      <td>0.000</td>\n",
       "      <td>0.519</td>\n",
       "      <td>t3</td>\n",
       "    </tr>\n",
       "  </tbody>\n",
       "</table>\n",
       "</div>"
      ],
      "text/plain": [
       "                  date  year  month  day       publication  \\\n",
       "0  2016-10-07 21:26:46  2016 10.000    7  Business Insider   \n",
       "1  2016-01-27 00:00:00  2016  1.000   27               TMZ   \n",
       "2  2016-05-18 13:00:06  2016  5.000   18               Vox   \n",
       "\n",
       "                               title_article_cleaned    t0    t1    t2    t3  \\\n",
       "0  colt gm ryan grigson andrew luck contract diff... 0.001 0.047 0.001 0.001   \n",
       "1  pari hilton woman black uncl monti funer pari ... 0.004 0.004 0.003 0.003   \n",
       "2  watch googl io keynot live googl io compani bi... 0.002 0.257 0.001 0.519   \n",
       "\n",
       "     t4    t5    t6    t7    t8    t9   t10   t11   t12   t13   t14   t15  \\\n",
       "0 0.001 0.001 0.001 0.000 0.000 0.000 0.525 0.000 0.000 0.000 0.195 0.000   \n",
       "1 0.002 0.080 0.002 0.002 0.169 0.057 0.001 0.001 0.001 0.001 0.106 0.112   \n",
       "2 0.180 0.001 0.001 0.001 0.001 0.001 0.001 0.001 0.001 0.000 0.000 0.000   \n",
       "\n",
       "    t16   t17   t18   t19   t20   t21   t22   t23   t24  highest_prob  \\\n",
       "0 0.000 0.000 0.000 0.000 0.000 0.000 0.000 0.124 0.100         0.525   \n",
       "1 0.001 0.443 0.001 0.001 0.001 0.001 0.001 0.001 0.001         0.443   \n",
       "2 0.000 0.000 0.000 0.000 0.000 0.000 0.000 0.032 0.000         0.519   \n",
       "\n",
       "  highest_topic  \n",
       "0           t10  \n",
       "1           t17  \n",
       "2            t3  "
      ]
     },
     "execution_count": 11,
     "metadata": {},
     "output_type": "execute_result"
    }
   ],
   "source": [
    "df_final_train.head(3)"
   ]
  },
  {
   "cell_type": "code",
   "execution_count": 12,
   "id": "bbb0f1f2",
   "metadata": {},
   "outputs": [],
   "source": [
    "\n",
    "def format_topics_sentences(ldamodel, corpus, texts):\n",
    "    # Init output\n",
    "    sent_topics_df = pd.DataFrame()\n",
    "\n",
    "    # Get main topic in each document\n",
    "    for i, row in enumerate(ldamodel[corpus]):\n",
    "        row = sorted(row, key=lambda x: (x[1]), reverse=True)\n",
    "        # Get the Dominant topic, Perc Contribution and Keywords for each document\n",
    "        for j, (topic_num, prop_topic) in enumerate(row):\n",
    "            if j == 0:  # => dominant topic\n",
    "                wp = ldamodel.show_topic(topic_num)\n",
    "                topic_keywords = \", \".join([word for word, prop in wp])\n",
    "                sent_topics_df = sent_topics_df.append(pd.Series([int(topic_num), round(prop_topic,4), topic_keywords]), ignore_index=True)\n",
    "            else:\n",
    "                break\n",
    "    sent_topics_df.columns = ['Dominant_Topic', 'Perc_Contribution', 'Topic_Keywords']\n",
    "\n",
    "    # Add original text to the end of the output\n",
    "    contents = pd.Series(texts)\n",
    "    sent_topics_df = pd.concat([sent_topics_df, contents], axis=1)\n",
    "    return(sent_topics_df)"
   ]
  },
  {
   "cell_type": "code",
   "execution_count": 13,
   "id": "c78a6907",
   "metadata": {},
   "outputs": [
    {
     "data": {
      "text/plain": [
       "2067317"
      ]
     },
     "execution_count": 13,
     "metadata": {},
     "output_type": "execute_result"
    }
   ],
   "source": [
    "len(token_words_trigrams_lemm)"
   ]
  },
  {
   "cell_type": "code",
   "execution_count": 14,
   "id": "9ff6fbb1",
   "metadata": {},
   "outputs": [
    {
     "data": {
      "text/plain": [
       "list"
      ]
     },
     "execution_count": 14,
     "metadata": {},
     "output_type": "execute_result"
    }
   ],
   "source": [
    "type(token_words_trigrams_lemm)"
   ]
  },
  {
   "cell_type": "markdown",
   "id": "07a01a97",
   "metadata": {},
   "source": [
    "# it is taking too long to run, down sample to 0.5 million ...."
   ]
  },
  {
   "cell_type": "code",
   "execution_count": 15,
   "id": "5e40f4a5",
   "metadata": {},
   "outputs": [],
   "source": [
    "# down sample\n",
    "import random\n",
    "\n",
    "token_words_trigrams_lemm_sample = random.sample(token_words_trigrams_lemm, 500000)"
   ]
  },
  {
   "cell_type": "code",
   "execution_count": 16,
   "id": "ed84daf8",
   "metadata": {},
   "outputs": [],
   "source": [
    "train_corpus_lemm_sample = [id2word.doc2bow(text) for text in token_words_trigrams_lemm_sample]"
   ]
  },
  {
   "cell_type": "code",
   "execution_count": 17,
   "id": "cf1b7afc",
   "metadata": {},
   "outputs": [],
   "source": [
    "df_topic_sents_keywords = format_topics_sentences(ldamodel=bestModel_25, \n",
    "                                                  corpus=train_corpus_lemm_sample, \n",
    "                                                  texts=token_words_trigrams_lemm_sample)\n",
    "\n",
    "# Format\n",
    "df_dominant_topic = df_topic_sents_keywords.reset_index()"
   ]
  },
  {
   "cell_type": "code",
   "execution_count": 18,
   "id": "cf802cd2",
   "metadata": {},
   "outputs": [
    {
     "data": {
      "text/html": [
       "<div>\n",
       "<style scoped>\n",
       "    .dataframe tbody tr th:only-of-type {\n",
       "        vertical-align: middle;\n",
       "    }\n",
       "\n",
       "    .dataframe tbody tr th {\n",
       "        vertical-align: top;\n",
       "    }\n",
       "\n",
       "    .dataframe thead th {\n",
       "        text-align: right;\n",
       "    }\n",
       "</style>\n",
       "<table border=\"1\" class=\"dataframe\">\n",
       "  <thead>\n",
       "    <tr style=\"text-align: right;\">\n",
       "      <th></th>\n",
       "      <th>index</th>\n",
       "      <th>Dominant_Topic</th>\n",
       "      <th>Perc_Contribution</th>\n",
       "      <th>Topic_Keywords</th>\n",
       "      <th>0</th>\n",
       "    </tr>\n",
       "  </thead>\n",
       "  <tbody>\n",
       "    <tr>\n",
       "      <th>0</th>\n",
       "      <td>0</td>\n",
       "      <td>6.000</td>\n",
       "      <td>0.882</td>\n",
       "      <td>film, music, play, perform, new, good, year, s...</td>\n",
       "      <td>[roll, stone, new, album, roll, stone, blue, r...</td>\n",
       "    </tr>\n",
       "    <tr>\n",
       "      <th>1</th>\n",
       "      <td>1</td>\n",
       "      <td>20.000</td>\n",
       "      <td>0.597</td>\n",
       "      <td>share, sale, compani, year, profit, report, re...</td>\n",
       "      <td>[cheap, stock, pick, buy, big, dividend, payou...</td>\n",
       "    </tr>\n",
       "    <tr>\n",
       "      <th>2</th>\n",
       "      <td>2</td>\n",
       "      <td>12.000</td>\n",
       "      <td>0.369</td>\n",
       "      <td>report, investig, secur, inform, hous, depart,...</td>\n",
       "      <td>[bridal, parti, tour, white, hous, assist, off...</td>\n",
       "    </tr>\n",
       "    <tr>\n",
       "      <th>3</th>\n",
       "      <td>3</td>\n",
       "      <td>22.000</td>\n",
       "      <td>0.488</td>\n",
       "      <td>market, percent, year, high, low, trade, stock...</td>\n",
       "      <td>[trade, singlestock, begin, trade, singlestock...</td>\n",
       "    </tr>\n",
       "    <tr>\n",
       "      <th>4</th>\n",
       "      <td>4</td>\n",
       "      <td>14.000</td>\n",
       "      <td>0.490</td>\n",
       "      <td>think, know, thing, want, time, good, way, fee...</td>\n",
       "      <td>[interview, ceo, ss, look, bank, use, knock, d...</td>\n",
       "    </tr>\n",
       "    <tr>\n",
       "      <th>5</th>\n",
       "      <td>5</td>\n",
       "      <td>20.000</td>\n",
       "      <td>0.361</td>\n",
       "      <td>share, sale, compani, year, profit, report, re...</td>\n",
       "      <td>[gojek, expand, servic, food, indonesian, app,...</td>\n",
       "    </tr>\n",
       "    <tr>\n",
       "      <th>6</th>\n",
       "      <td>6</td>\n",
       "      <td>20.000</td>\n",
       "      <td>0.772</td>\n",
       "      <td>share, sale, compani, year, profit, report, re...</td>\n",
       "      <td>[stock, big, premarket, stitch, fix, check, ad...</td>\n",
       "    </tr>\n",
       "    <tr>\n",
       "      <th>7</th>\n",
       "      <td>7</td>\n",
       "      <td>15.000</td>\n",
       "      <td>0.334</td>\n",
       "      <td>woman, man, sexual, black, right, sex, peopl, ...</td>\n",
       "      <td>[pier_morgan, help, intern, man, day, intern, ...</td>\n",
       "    </tr>\n",
       "    <tr>\n",
       "      <th>8</th>\n",
       "      <td>8</td>\n",
       "      <td>19.000</td>\n",
       "      <td>0.784</td>\n",
       "      <td>govern, unit, state, nation, minist, foreign, ...</td>\n",
       "      <td>[inconsist, commit, nuclear, deal, urgent, mee...</td>\n",
       "    </tr>\n",
       "    <tr>\n",
       "      <th>9</th>\n",
       "      <td>9</td>\n",
       "      <td>9.000</td>\n",
       "      <td>0.621</td>\n",
       "      <td>work, art, book, write, world, find, time, art...</td>\n",
       "      <td>[correct, grim, prospect, week, brief, antibio...</td>\n",
       "    </tr>\n",
       "  </tbody>\n",
       "</table>\n",
       "</div>"
      ],
      "text/plain": [
       "   index  Dominant_Topic  Perc_Contribution  \\\n",
       "0      0           6.000              0.882   \n",
       "1      1          20.000              0.597   \n",
       "2      2          12.000              0.369   \n",
       "3      3          22.000              0.488   \n",
       "4      4          14.000              0.490   \n",
       "5      5          20.000              0.361   \n",
       "6      6          20.000              0.772   \n",
       "7      7          15.000              0.334   \n",
       "8      8          19.000              0.784   \n",
       "9      9           9.000              0.621   \n",
       "\n",
       "                                      Topic_Keywords  \\\n",
       "0  film, music, play, perform, new, good, year, s...   \n",
       "1  share, sale, compani, year, profit, report, re...   \n",
       "2  report, investig, secur, inform, hous, depart,...   \n",
       "3  market, percent, year, high, low, trade, stock...   \n",
       "4  think, know, thing, want, time, good, way, fee...   \n",
       "5  share, sale, compani, year, profit, report, re...   \n",
       "6  share, sale, compani, year, profit, report, re...   \n",
       "7  woman, man, sexual, black, right, sex, peopl, ...   \n",
       "8  govern, unit, state, nation, minist, foreign, ...   \n",
       "9  work, art, book, write, world, find, time, art...   \n",
       "\n",
       "                                                   0  \n",
       "0  [roll, stone, new, album, roll, stone, blue, r...  \n",
       "1  [cheap, stock, pick, buy, big, dividend, payou...  \n",
       "2  [bridal, parti, tour, white, hous, assist, off...  \n",
       "3  [trade, singlestock, begin, trade, singlestock...  \n",
       "4  [interview, ceo, ss, look, bank, use, knock, d...  \n",
       "5  [gojek, expand, servic, food, indonesian, app,...  \n",
       "6  [stock, big, premarket, stitch, fix, check, ad...  \n",
       "7  [pier_morgan, help, intern, man, day, intern, ...  \n",
       "8  [inconsist, commit, nuclear, deal, urgent, mee...  \n",
       "9  [correct, grim, prospect, week, brief, antibio...  "
      ]
     },
     "execution_count": 18,
     "metadata": {},
     "output_type": "execute_result"
    }
   ],
   "source": [
    "# Show\n",
    "df_dominant_topic.head(10)"
   ]
  },
  {
   "cell_type": "code",
   "execution_count": 19,
   "id": "63308acf",
   "metadata": {},
   "outputs": [],
   "source": [
    "df_dominant_topic.columns = ['Document_No', 'Dominant_Topic', 'Topic_Perc_Contrib', 'Keywords', 'Text']\n",
    "# change to integer for Dominant_Topic\n",
    "df_dominant_topic['Dominant_Topic'] = df_dominant_topic['Dominant_Topic'].astype('int')"
   ]
  },
  {
   "cell_type": "code",
   "execution_count": 20,
   "id": "c92dafad",
   "metadata": {},
   "outputs": [
    {
     "data": {
      "text/html": [
       "<div>\n",
       "<style scoped>\n",
       "    .dataframe tbody tr th:only-of-type {\n",
       "        vertical-align: middle;\n",
       "    }\n",
       "\n",
       "    .dataframe tbody tr th {\n",
       "        vertical-align: top;\n",
       "    }\n",
       "\n",
       "    .dataframe thead th {\n",
       "        text-align: right;\n",
       "    }\n",
       "</style>\n",
       "<table border=\"1\" class=\"dataframe\">\n",
       "  <thead>\n",
       "    <tr style=\"text-align: right;\">\n",
       "      <th></th>\n",
       "      <th>Document_No</th>\n",
       "      <th>Dominant_Topic</th>\n",
       "      <th>Topic_Perc_Contrib</th>\n",
       "      <th>Keywords</th>\n",
       "      <th>Text</th>\n",
       "    </tr>\n",
       "  </thead>\n",
       "  <tbody>\n",
       "    <tr>\n",
       "      <th>0</th>\n",
       "      <td>0</td>\n",
       "      <td>6</td>\n",
       "      <td>0.882</td>\n",
       "      <td>film, music, play, perform, new, good, year, s...</td>\n",
       "      <td>[roll, stone, new, album, roll, stone, blue, r...</td>\n",
       "    </tr>\n",
       "    <tr>\n",
       "      <th>1</th>\n",
       "      <td>1</td>\n",
       "      <td>20</td>\n",
       "      <td>0.597</td>\n",
       "      <td>share, sale, compani, year, profit, report, re...</td>\n",
       "      <td>[cheap, stock, pick, buy, big, dividend, payou...</td>\n",
       "    </tr>\n",
       "    <tr>\n",
       "      <th>2</th>\n",
       "      <td>2</td>\n",
       "      <td>12</td>\n",
       "      <td>0.369</td>\n",
       "      <td>report, investig, secur, inform, hous, depart,...</td>\n",
       "      <td>[bridal, parti, tour, white, hous, assist, off...</td>\n",
       "    </tr>\n",
       "    <tr>\n",
       "      <th>3</th>\n",
       "      <td>3</td>\n",
       "      <td>22</td>\n",
       "      <td>0.488</td>\n",
       "      <td>market, percent, year, high, low, trade, stock...</td>\n",
       "      <td>[trade, singlestock, begin, trade, singlestock...</td>\n",
       "    </tr>\n",
       "    <tr>\n",
       "      <th>4</th>\n",
       "      <td>4</td>\n",
       "      <td>14</td>\n",
       "      <td>0.490</td>\n",
       "      <td>think, know, thing, want, time, good, way, fee...</td>\n",
       "      <td>[interview, ceo, ss, look, bank, use, knock, d...</td>\n",
       "    </tr>\n",
       "    <tr>\n",
       "      <th>5</th>\n",
       "      <td>5</td>\n",
       "      <td>20</td>\n",
       "      <td>0.361</td>\n",
       "      <td>share, sale, compani, year, profit, report, re...</td>\n",
       "      <td>[gojek, expand, servic, food, indonesian, app,...</td>\n",
       "    </tr>\n",
       "    <tr>\n",
       "      <th>6</th>\n",
       "      <td>6</td>\n",
       "      <td>20</td>\n",
       "      <td>0.772</td>\n",
       "      <td>share, sale, compani, year, profit, report, re...</td>\n",
       "      <td>[stock, big, premarket, stitch, fix, check, ad...</td>\n",
       "    </tr>\n",
       "    <tr>\n",
       "      <th>7</th>\n",
       "      <td>7</td>\n",
       "      <td>15</td>\n",
       "      <td>0.334</td>\n",
       "      <td>woman, man, sexual, black, right, sex, peopl, ...</td>\n",
       "      <td>[pier_morgan, help, intern, man, day, intern, ...</td>\n",
       "    </tr>\n",
       "    <tr>\n",
       "      <th>8</th>\n",
       "      <td>8</td>\n",
       "      <td>19</td>\n",
       "      <td>0.784</td>\n",
       "      <td>govern, unit, state, nation, minist, foreign, ...</td>\n",
       "      <td>[inconsist, commit, nuclear, deal, urgent, mee...</td>\n",
       "    </tr>\n",
       "    <tr>\n",
       "      <th>9</th>\n",
       "      <td>9</td>\n",
       "      <td>9</td>\n",
       "      <td>0.621</td>\n",
       "      <td>work, art, book, write, world, find, time, art...</td>\n",
       "      <td>[correct, grim, prospect, week, brief, antibio...</td>\n",
       "    </tr>\n",
       "  </tbody>\n",
       "</table>\n",
       "</div>"
      ],
      "text/plain": [
       "   Document_No  Dominant_Topic  Topic_Perc_Contrib  \\\n",
       "0            0               6               0.882   \n",
       "1            1              20               0.597   \n",
       "2            2              12               0.369   \n",
       "3            3              22               0.488   \n",
       "4            4              14               0.490   \n",
       "5            5              20               0.361   \n",
       "6            6              20               0.772   \n",
       "7            7              15               0.334   \n",
       "8            8              19               0.784   \n",
       "9            9               9               0.621   \n",
       "\n",
       "                                            Keywords  \\\n",
       "0  film, music, play, perform, new, good, year, s...   \n",
       "1  share, sale, compani, year, profit, report, re...   \n",
       "2  report, investig, secur, inform, hous, depart,...   \n",
       "3  market, percent, year, high, low, trade, stock...   \n",
       "4  think, know, thing, want, time, good, way, fee...   \n",
       "5  share, sale, compani, year, profit, report, re...   \n",
       "6  share, sale, compani, year, profit, report, re...   \n",
       "7  woman, man, sexual, black, right, sex, peopl, ...   \n",
       "8  govern, unit, state, nation, minist, foreign, ...   \n",
       "9  work, art, book, write, world, find, time, art...   \n",
       "\n",
       "                                                Text  \n",
       "0  [roll, stone, new, album, roll, stone, blue, r...  \n",
       "1  [cheap, stock, pick, buy, big, dividend, payou...  \n",
       "2  [bridal, parti, tour, white, hous, assist, off...  \n",
       "3  [trade, singlestock, begin, trade, singlestock...  \n",
       "4  [interview, ceo, ss, look, bank, use, knock, d...  \n",
       "5  [gojek, expand, servic, food, indonesian, app,...  \n",
       "6  [stock, big, premarket, stitch, fix, check, ad...  \n",
       "7  [pier_morgan, help, intern, man, day, intern, ...  \n",
       "8  [inconsist, commit, nuclear, deal, urgent, mee...  \n",
       "9  [correct, grim, prospect, week, brief, antibio...  "
      ]
     },
     "execution_count": 20,
     "metadata": {},
     "output_type": "execute_result"
    }
   ],
   "source": [
    "df_dominant_topic.head(10)"
   ]
  },
  {
   "cell_type": "code",
   "execution_count": 21,
   "id": "ac887bbd",
   "metadata": {},
   "outputs": [],
   "source": [
    "df_dominant_topic.to_csv('full_sample/dominant_topic_train_sample.csv', index=False)"
   ]
  },
  {
   "cell_type": "code",
   "execution_count": 2,
   "id": "4a22eca5",
   "metadata": {},
   "outputs": [
    {
     "data": {
      "text/plain": [
       "(500000, 5)"
      ]
     },
     "execution_count": 2,
     "metadata": {},
     "output_type": "execute_result"
    }
   ],
   "source": [
    "df_dominant_topic = pd.read_csv('full_sample/dominant_topic_train_sample.csv')\n",
    "df_dominant_topic.shape"
   ]
  },
  {
   "cell_type": "code",
   "execution_count": 4,
   "id": "c1cf1181",
   "metadata": {},
   "outputs": [
    {
     "data": {
      "text/html": [
       "<div>\n",
       "<style scoped>\n",
       "    .dataframe tbody tr th:only-of-type {\n",
       "        vertical-align: middle;\n",
       "    }\n",
       "\n",
       "    .dataframe tbody tr th {\n",
       "        vertical-align: top;\n",
       "    }\n",
       "\n",
       "    .dataframe thead th {\n",
       "        text-align: right;\n",
       "    }\n",
       "</style>\n",
       "<table border=\"1\" class=\"dataframe\">\n",
       "  <thead>\n",
       "    <tr style=\"text-align: right;\">\n",
       "      <th></th>\n",
       "      <th>Document_No</th>\n",
       "      <th>Dominant_Topic</th>\n",
       "      <th>Topic_Perc_Contrib</th>\n",
       "      <th>Keywords</th>\n",
       "      <th>Text</th>\n",
       "    </tr>\n",
       "  </thead>\n",
       "  <tbody>\n",
       "    <tr>\n",
       "      <th>0</th>\n",
       "      <td>0</td>\n",
       "      <td>6</td>\n",
       "      <td>0.882</td>\n",
       "      <td>film, music, play, perform, new, good, year, s...</td>\n",
       "      <td>['roll', 'stone', 'new', 'album', 'roll', 'sto...</td>\n",
       "    </tr>\n",
       "    <tr>\n",
       "      <th>1</th>\n",
       "      <td>1</td>\n",
       "      <td>20</td>\n",
       "      <td>0.597</td>\n",
       "      <td>share, sale, compani, year, profit, report, re...</td>\n",
       "      <td>['cheap', 'stock', 'pick', 'buy', 'big', 'divi...</td>\n",
       "    </tr>\n",
       "    <tr>\n",
       "      <th>2</th>\n",
       "      <td>2</td>\n",
       "      <td>12</td>\n",
       "      <td>0.369</td>\n",
       "      <td>report, investig, secur, inform, hous, depart,...</td>\n",
       "      <td>['bridal', 'parti', 'tour', 'white', 'hous', '...</td>\n",
       "    </tr>\n",
       "    <tr>\n",
       "      <th>3</th>\n",
       "      <td>3</td>\n",
       "      <td>22</td>\n",
       "      <td>0.488</td>\n",
       "      <td>market, percent, year, high, low, trade, stock...</td>\n",
       "      <td>['trade', 'singlestock', 'begin', 'trade', 'si...</td>\n",
       "    </tr>\n",
       "    <tr>\n",
       "      <th>4</th>\n",
       "      <td>4</td>\n",
       "      <td>14</td>\n",
       "      <td>0.490</td>\n",
       "      <td>think, know, thing, want, time, good, way, fee...</td>\n",
       "      <td>['interview', 'ceo', 'ss', 'look', 'bank', 'us...</td>\n",
       "    </tr>\n",
       "    <tr>\n",
       "      <th>5</th>\n",
       "      <td>5</td>\n",
       "      <td>20</td>\n",
       "      <td>0.361</td>\n",
       "      <td>share, sale, compani, year, profit, report, re...</td>\n",
       "      <td>['gojek', 'expand', 'servic', 'food', 'indones...</td>\n",
       "    </tr>\n",
       "    <tr>\n",
       "      <th>6</th>\n",
       "      <td>6</td>\n",
       "      <td>20</td>\n",
       "      <td>0.772</td>\n",
       "      <td>share, sale, compani, year, profit, report, re...</td>\n",
       "      <td>['stock', 'big', 'premarket', 'stitch', 'fix',...</td>\n",
       "    </tr>\n",
       "    <tr>\n",
       "      <th>7</th>\n",
       "      <td>7</td>\n",
       "      <td>15</td>\n",
       "      <td>0.334</td>\n",
       "      <td>woman, man, sexual, black, right, sex, peopl, ...</td>\n",
       "      <td>['pier_morgan', 'help', 'intern', 'man', 'day'...</td>\n",
       "    </tr>\n",
       "    <tr>\n",
       "      <th>8</th>\n",
       "      <td>8</td>\n",
       "      <td>19</td>\n",
       "      <td>0.784</td>\n",
       "      <td>govern, unit, state, nation, minist, foreign, ...</td>\n",
       "      <td>['inconsist', 'commit', 'nuclear', 'deal', 'ur...</td>\n",
       "    </tr>\n",
       "    <tr>\n",
       "      <th>9</th>\n",
       "      <td>9</td>\n",
       "      <td>9</td>\n",
       "      <td>0.621</td>\n",
       "      <td>work, art, book, write, world, find, time, art...</td>\n",
       "      <td>['correct', 'grim', 'prospect', 'week', 'brief...</td>\n",
       "    </tr>\n",
       "  </tbody>\n",
       "</table>\n",
       "</div>"
      ],
      "text/plain": [
       "   Document_No  Dominant_Topic  Topic_Perc_Contrib  \\\n",
       "0            0               6               0.882   \n",
       "1            1              20               0.597   \n",
       "2            2              12               0.369   \n",
       "3            3              22               0.488   \n",
       "4            4              14               0.490   \n",
       "5            5              20               0.361   \n",
       "6            6              20               0.772   \n",
       "7            7              15               0.334   \n",
       "8            8              19               0.784   \n",
       "9            9               9               0.621   \n",
       "\n",
       "                                            Keywords  \\\n",
       "0  film, music, play, perform, new, good, year, s...   \n",
       "1  share, sale, compani, year, profit, report, re...   \n",
       "2  report, investig, secur, inform, hous, depart,...   \n",
       "3  market, percent, year, high, low, trade, stock...   \n",
       "4  think, know, thing, want, time, good, way, fee...   \n",
       "5  share, sale, compani, year, profit, report, re...   \n",
       "6  share, sale, compani, year, profit, report, re...   \n",
       "7  woman, man, sexual, black, right, sex, peopl, ...   \n",
       "8  govern, unit, state, nation, minist, foreign, ...   \n",
       "9  work, art, book, write, world, find, time, art...   \n",
       "\n",
       "                                                Text  \n",
       "0  ['roll', 'stone', 'new', 'album', 'roll', 'sto...  \n",
       "1  ['cheap', 'stock', 'pick', 'buy', 'big', 'divi...  \n",
       "2  ['bridal', 'parti', 'tour', 'white', 'hous', '...  \n",
       "3  ['trade', 'singlestock', 'begin', 'trade', 'si...  \n",
       "4  ['interview', 'ceo', 'ss', 'look', 'bank', 'us...  \n",
       "5  ['gojek', 'expand', 'servic', 'food', 'indones...  \n",
       "6  ['stock', 'big', 'premarket', 'stitch', 'fix',...  \n",
       "7  ['pier_morgan', 'help', 'intern', 'man', 'day'...  \n",
       "8  ['inconsist', 'commit', 'nuclear', 'deal', 'ur...  \n",
       "9  ['correct', 'grim', 'prospect', 'week', 'brief...  "
      ]
     },
     "execution_count": 4,
     "metadata": {},
     "output_type": "execute_result"
    }
   ],
   "source": [
    "df_dominant_topic.head(10)"
   ]
  },
  {
   "cell_type": "code",
   "execution_count": 8,
   "id": "e491ccee",
   "metadata": {},
   "outputs": [
    {
     "data": {
      "text/plain": [
       "count   500000.000\n",
       "mean         0.489\n",
       "std          0.188\n",
       "min          0.095\n",
       "25%          0.345\n",
       "50%          0.452\n",
       "75%          0.604\n",
       "max          0.996\n",
       "Name: Topic_Perc_Contrib, dtype: float64"
      ]
     },
     "execution_count": 8,
     "metadata": {},
     "output_type": "execute_result"
    }
   ],
   "source": [
    "df_dominant_topic['Topic_Perc_Contrib'].describe()"
   ]
  },
  {
   "cell_type": "code",
   "execution_count": 10,
   "id": "b025bf2b",
   "metadata": {},
   "outputs": [
    {
     "data": {
      "text/plain": [
       "[Text(0, 0.5, 'Number of Documents'), Text(0.5, 0, 'Topic_%_Contribution')]"
      ]
     },
     "execution_count": 10,
     "metadata": {},
     "output_type": "execute_result"
    },
    {
     "data": {
      "image/png": "[encoded data removed]",
      "text/plain": [
       "<Figure size 432x288 with 1 Axes>"
      ]
     },
     "metadata": {
      "needs_background": "light"
     },
     "output_type": "display_data"
    }
   ],
   "source": [
    "df_dominant_topic['Topic_Perc_Contrib'].hist()\n",
    "plt.gca().set(ylabel='Number of Documents', xlabel='Topic_%_Contribution')"
   ]
  },
  {
   "cell_type": "code",
   "execution_count": 22,
   "id": "60458c7b",
   "metadata": {},
   "outputs": [
    {
     "data": {
      "text/html": [
       "<div>\n",
       "<style scoped>\n",
       "    .dataframe tbody tr th:only-of-type {\n",
       "        vertical-align: middle;\n",
       "    }\n",
       "\n",
       "    .dataframe tbody tr th {\n",
       "        vertical-align: top;\n",
       "    }\n",
       "\n",
       "    .dataframe thead th {\n",
       "        text-align: right;\n",
       "    }\n",
       "</style>\n",
       "<table border=\"1\" class=\"dataframe\">\n",
       "  <thead>\n",
       "    <tr style=\"text-align: right;\">\n",
       "      <th></th>\n",
       "      <th>Dominant_Topic</th>\n",
       "      <th>Num Documents</th>\n",
       "    </tr>\n",
       "  </thead>\n",
       "  <tbody>\n",
       "    <tr>\n",
       "      <th>8</th>\n",
       "      <td>0</td>\n",
       "      <td>19884</td>\n",
       "    </tr>\n",
       "    <tr>\n",
       "      <th>18</th>\n",
       "      <td>1</td>\n",
       "      <td>12258</td>\n",
       "    </tr>\n",
       "    <tr>\n",
       "      <th>14</th>\n",
       "      <td>2</td>\n",
       "      <td>15216</td>\n",
       "    </tr>\n",
       "    <tr>\n",
       "      <th>4</th>\n",
       "      <td>3</td>\n",
       "      <td>30528</td>\n",
       "    </tr>\n",
       "    <tr>\n",
       "      <th>23</th>\n",
       "      <td>4</td>\n",
       "      <td>4185</td>\n",
       "    </tr>\n",
       "    <tr>\n",
       "      <th>17</th>\n",
       "      <td>5</td>\n",
       "      <td>13390</td>\n",
       "    </tr>\n",
       "    <tr>\n",
       "      <th>5</th>\n",
       "      <td>6</td>\n",
       "      <td>29909</td>\n",
       "    </tr>\n",
       "    <tr>\n",
       "      <th>21</th>\n",
       "      <td>7</td>\n",
       "      <td>7940</td>\n",
       "    </tr>\n",
       "    <tr>\n",
       "      <th>15</th>\n",
       "      <td>8</td>\n",
       "      <td>14870</td>\n",
       "    </tr>\n",
       "    <tr>\n",
       "      <th>11</th>\n",
       "      <td>9</td>\n",
       "      <td>16432</td>\n",
       "    </tr>\n",
       "    <tr>\n",
       "      <th>9</th>\n",
       "      <td>10</td>\n",
       "      <td>19877</td>\n",
       "    </tr>\n",
       "    <tr>\n",
       "      <th>24</th>\n",
       "      <td>11</td>\n",
       "      <td>640</td>\n",
       "    </tr>\n",
       "    <tr>\n",
       "      <th>7</th>\n",
       "      <td>12</td>\n",
       "      <td>20579</td>\n",
       "    </tr>\n",
       "    <tr>\n",
       "      <th>12</th>\n",
       "      <td>13</td>\n",
       "      <td>16377</td>\n",
       "    </tr>\n",
       "    <tr>\n",
       "      <th>6</th>\n",
       "      <td>14</td>\n",
       "      <td>27360</td>\n",
       "    </tr>\n",
       "    <tr>\n",
       "      <th>19</th>\n",
       "      <td>15</td>\n",
       "      <td>9589</td>\n",
       "    </tr>\n",
       "    <tr>\n",
       "      <th>13</th>\n",
       "      <td>16</td>\n",
       "      <td>15729</td>\n",
       "    </tr>\n",
       "    <tr>\n",
       "      <th>10</th>\n",
       "      <td>17</td>\n",
       "      <td>17409</td>\n",
       "    </tr>\n",
       "    <tr>\n",
       "      <th>1</th>\n",
       "      <td>18</td>\n",
       "      <td>41321</td>\n",
       "    </tr>\n",
       "    <tr>\n",
       "      <th>2</th>\n",
       "      <td>19</td>\n",
       "      <td>41099</td>\n",
       "    </tr>\n",
       "    <tr>\n",
       "      <th>0</th>\n",
       "      <td>20</td>\n",
       "      <td>57540</td>\n",
       "    </tr>\n",
       "    <tr>\n",
       "      <th>22</th>\n",
       "      <td>21</td>\n",
       "      <td>6549</td>\n",
       "    </tr>\n",
       "    <tr>\n",
       "      <th>3</th>\n",
       "      <td>22</td>\n",
       "      <td>37768</td>\n",
       "    </tr>\n",
       "    <tr>\n",
       "      <th>20</th>\n",
       "      <td>23</td>\n",
       "      <td>9209</td>\n",
       "    </tr>\n",
       "    <tr>\n",
       "      <th>16</th>\n",
       "      <td>24</td>\n",
       "      <td>14342</td>\n",
       "    </tr>\n",
       "  </tbody>\n",
       "</table>\n",
       "</div>"
      ],
      "text/plain": [
       "    Dominant_Topic  Num Documents\n",
       "8                0          19884\n",
       "18               1          12258\n",
       "14               2          15216\n",
       "4                3          30528\n",
       "23               4           4185\n",
       "17               5          13390\n",
       "5                6          29909\n",
       "21               7           7940\n",
       "15               8          14870\n",
       "11               9          16432\n",
       "9               10          19877\n",
       "24              11            640\n",
       "7               12          20579\n",
       "12              13          16377\n",
       "6               14          27360\n",
       "19              15           9589\n",
       "13              16          15729\n",
       "10              17          17409\n",
       "1               18          41321\n",
       "2               19          41099\n",
       "0               20          57540\n",
       "22              21           6549\n",
       "3               22          37768\n",
       "20              23           9209\n",
       "16              24          14342"
      ]
     },
     "execution_count": 22,
     "metadata": {},
     "output_type": "execute_result"
    }
   ],
   "source": [
    "# what topics have the most number of documents\n",
    "df_topic_distribution = df_dominant_topic['Dominant_Topic'].value_counts().reset_index(name=\"Num Documents\")\n",
    "df_topic_distribution.columns = ['Dominant_Topic', 'Num Documents']\n",
    "df_topic_distribution.sort_values(\"Dominant_Topic\")"
   ]
  },
  {
   "cell_type": "code",
   "execution_count": 23,
   "id": "1ddc00ab",
   "metadata": {},
   "outputs": [],
   "source": [
    "df_topic_distribution.to_csv('full_sample/dominant_topic_distribution_train_sample.csv', index=False)"
   ]
  },
  {
   "cell_type": "code",
   "execution_count": 24,
   "id": "05f3c6ee",
   "metadata": {},
   "outputs": [
    {
     "data": {
      "text/plain": [
       "<AxesSubplot:xlabel='Dominant_Topic'>"
      ]
     },
     "execution_count": 24,
     "metadata": {},
     "output_type": "execute_result"
    },
    {
     "data": {
      "text/plain": [
       "<Figure size 2560x1120 with 0 Axes>"
      ]
     },
     "metadata": {},
     "output_type": "display_data"
    },
    {
     "data": {
      "image/png": "[encoded data removed]",
      "text/plain": [
       "<Figure size 432x288 with 1 Axes>"
      ]
     },
     "metadata": {
      "needs_background": "light"
     },
     "output_type": "display_data"
    }
   ],
   "source": [
    "df = df_topic_distribution.set_index('Dominant_Topic')\n",
    "plt.figure(figsize=(16,7), dpi=160)\n",
    "df.plot(kind='bar')"
   ]
  },
  {
   "cell_type": "code",
   "execution_count": 25,
   "id": "585cc367",
   "metadata": {},
   "outputs": [],
   "source": [
    "def cluster_test(corpus, model):\n",
    "    docs_with_1_topic = 0\n",
    "    docs_with_multiple_topics = 0\n",
    "    docs_with_no_topics = 0\n",
    "    total_docs = 0\n",
    "    for doc in corpus:\n",
    "        topics = model.get_document_topics(doc, minimum_probability=0.20)\n",
    "        total_docs += 1\n",
    "        if len(topics) == 1:\n",
    "            docs_with_1_topic += 1\n",
    "        elif len(topics) > 1:\n",
    "            docs_with_multiple_topics += 1\n",
    "        else:\n",
    "            docs_with_no_topics += 1\n",
    "    print('Corpus assigned to a single topic:', (docs_with_1_topic / total_docs) * 100, '%')\n",
    "    print('Corpus assigned to multiple topics:', (docs_with_multiple_topics / total_docs) * 100, '%')\n",
    "    print('corpus assigned to no topics:', (docs_with_no_topics / total_docs) * 100, '%')"
   ]
  },
  {
   "cell_type": "code",
   "execution_count": 26,
   "id": "0613ea55",
   "metadata": {},
   "outputs": [
    {
     "data": {
      "text/plain": [
       "0.5244064291108138"
      ]
     },
     "execution_count": 26,
     "metadata": {},
     "output_type": "execute_result"
    }
   ],
   "source": [
    "from gensim.models import CoherenceModel\n",
    "\n",
    "coherence_model_lda = CoherenceModel(model=bestModel_25, texts=token_words_trigrams_lemm_sample, \n",
    "                                         dictionary=id2word, coherence='c_v')\n",
    "    \n",
    "cv_opt = coherence_model_lda.get_coherence()\n",
    "\n",
    "cv_opt"
   ]
  },
  {
   "cell_type": "code",
   "execution_count": 27,
   "id": "b486a6c8",
   "metadata": {},
   "outputs": [
    {
     "name": "stdout",
     "output_type": "stream",
     "text": [
      "Corpus assigned to a single topic: 44.4058 %\n",
      "Corpus assigned to multiple topics: 54.369 %\n",
      "corpus assigned to no topics: 1.2252 %\n"
     ]
    }
   ],
   "source": [
    "cluster_test(train_corpus_lemm_sample, bestModel_25)"
   ]
  },
  {
   "cell_type": "code",
   "execution_count": 28,
   "id": "c532ab42",
   "metadata": {},
   "outputs": [
    {
     "name": "stdout",
     "output_type": "stream",
     "text": [
      "\n",
      "Perplexity:  -8.41478539526716\n"
     ]
    }
   ],
   "source": [
    "print('\\nPerplexity: ', bestModel_25.log_perplexity(train_corpus_lemm_sample)) "
   ]
  },
  {
   "cell_type": "code",
   "execution_count": null,
   "id": "e2a84fa7",
   "metadata": {},
   "outputs": [],
   "source": []
  },
  {
   "cell_type": "code",
   "execution_count": null,
   "id": "79bc165d",
   "metadata": {},
   "outputs": [],
   "source": []
  },
  {
   "cell_type": "code",
   "execution_count": null,
   "id": "24c2da6e",
   "metadata": {},
   "outputs": [],
   "source": []
  },
  {
   "cell_type": "code",
   "execution_count": null,
   "id": "eb57c7c8",
   "metadata": {},
   "outputs": [],
   "source": []
  },
  {
   "cell_type": "code",
   "execution_count": null,
   "id": "7d88b0e0",
   "metadata": {},
   "outputs": [],
   "source": []
  },
  {
   "cell_type": "code",
   "execution_count": null,
   "id": "a87c6d0a",
   "metadata": {},
   "outputs": [],
   "source": []
  },
  {
   "cell_type": "code",
   "execution_count": null,
   "id": "66e943b8",
   "metadata": {},
   "outputs": [],
   "source": []
  },
  {
   "cell_type": "code",
   "execution_count": null,
   "id": "a2484fa3",
   "metadata": {},
   "outputs": [],
   "source": []
  }
 ],
 "metadata": {
  "kernelspec": {
   "display_name": "Python 3 (ipykernel)",
   "language": "python",
   "name": "python3"
  },
  "language_info": {
   "codemirror_mode": {
    "name": "ipython",
    "version": 3
   },
   "file_extension": ".py",
   "mimetype": "text/x-python",
   "name": "python",
   "nbconvert_exporter": "python",
   "pygments_lexer": "ipython3",
   "version": "3.9.7"
  }
 },
 "nbformat": 4,
 "nbformat_minor": 5
}
